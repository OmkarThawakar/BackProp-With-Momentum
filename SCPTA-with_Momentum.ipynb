{
 "cells": [
  {
   "cell_type": "markdown",
   "metadata": {},
   "source": [
    "## Omkar Thawakar\n",
    "#### Single Continious Perceptron (with and without momentum)"
   ]
  },
  {
   "cell_type": "code",
   "execution_count": 15,
   "metadata": {
    "collapsed": true
   },
   "outputs": [],
   "source": [
    "import numpy as np\n",
    "import matplotlib.pyplot as plt\n",
    "import pandas as pd\n",
    "import time\n",
    "from matplotlib.colors import ListedColormap"
   ]
  },
  {
   "cell_type": "markdown",
   "metadata": {},
   "source": [
    "### Without momentum"
   ]
  },
  {
   "cell_type": "code",
   "execution_count": 76,
   "metadata": {
    "collapsed": true
   },
   "outputs": [],
   "source": [
    "class Neuron:\n",
    "    def __init__(self,eta=0.01):\n",
    "        self.eta=eta\n",
    "        \n",
    "    def init_weights(self,X):\n",
    "        #self.w_ = np.random.uniform(-1,1,1+X.shape[1])\n",
    "        self.w_ = np.array([ 0.26549065,  0.90864179,  0.44052682])\n",
    "        return self.w_\n",
    "    \n",
    "    def train(self,X,outputs,e_max):\n",
    "        self.w_ = np.array([ 0.26549065,  0.90864179,  0.44052682])\n",
    "        print('Initial Weights : ',self.w_)\n",
    "        self.error_ = []\n",
    "        epoch=1\n",
    "        steps = 0\n",
    "        done = False\n",
    "        start_time = time.time()\n",
    "        while not done:\n",
    "            err=0\n",
    "            for x,d in zip(X,outputs):\n",
    "                out = self.predict(x)\n",
    "                err += 0.5*(d-out)**2\n",
    "                self.w_[1:] = self.w_[1:] + self.eta*(d-out)*self.gradient(x)*x\n",
    "                self.w_[0] = self.w_[0] + self.eta*(d-out)*self.gradient(x)*1\n",
    "                steps+=1\n",
    "            if err<e_max:\n",
    "                done = True\n",
    "                stop_time = time.time()\n",
    "                print(\"Training done\")\n",
    "            else:\n",
    "                epoch+=1\n",
    "                self.error_.append(err)\n",
    "        print(\"No of steps required for training are : \",steps)\n",
    "        print(\"Final Error : \",self.error_[-1])\n",
    "        print('Time required for training is {} seconds '.format(stop_time-start_time))\n",
    "        return self\n",
    "    \n",
    "    def get_weights(self):\n",
    "        return self.w_\n",
    "\n",
    "    def net_input(self,X):\n",
    "        return np.dot(X,self.w_[1:])+self.w_[0]\n",
    "\n",
    "    def activation(self,X):\n",
    "        net = self.net_input(X)\n",
    "        return (1-np.exp(-net))/(1+np.exp(-net))\n",
    "    \n",
    "    def gradient(self,X):\n",
    "        return 0.5*(1-self.predict(X)**2)\n",
    "\n",
    "    def predict(self,X):\n",
    "        return self.activation(X)"
   ]
  },
  {
   "cell_type": "code",
   "execution_count": 77,
   "metadata": {
    "collapsed": true
   },
   "outputs": [],
   "source": [
    "#OR dataset\n",
    "X = np.array([[0,0],[0,1],[1,0],[1,1]])\n",
    "d = np.array([-1,1,1,1])"
   ]
  },
  {
   "cell_type": "code",
   "execution_count": 78,
   "metadata": {
    "collapsed": true
   },
   "outputs": [],
   "source": [
    "neuron = Neuron() "
   ]
  },
  {
   "cell_type": "code",
   "execution_count": 79,
   "metadata": {},
   "outputs": [
    {
     "data": {
      "text/plain": [
       "array([ 0.26549065,  0.90864179,  0.44052682])"
      ]
     },
     "execution_count": 79,
     "metadata": {},
     "output_type": "execute_result"
    }
   ],
   "source": [
    "neuron.init_weights(X)"
   ]
  },
  {
   "cell_type": "code",
   "execution_count": 80,
   "metadata": {},
   "outputs": [
    {
     "name": "stdout",
     "output_type": "stream",
     "text": [
      "Initial Weights :  [ 0.26549065  0.90864179  0.44052682]\n",
      "Training done\n",
      "No of steps required for training are :  952308\n",
      "Final Error :  0.00100000069568\n",
      "Time required for raining is :  35.83128786087036\n"
     ]
    },
    {
     "data": {
      "text/plain": [
       "<__main__.Neuron at 0x11f42aa90>"
      ]
     },
     "execution_count": 80,
     "metadata": {},
     "output_type": "execute_result"
    }
   ],
   "source": [
    "neuron.train(X,d,0.001)"
   ]
  },
  {
   "cell_type": "code",
   "execution_count": 81,
   "metadata": {},
   "outputs": [
    {
     "data": {
      "image/png": "[encoded data removed]",
      "text/plain": [
       "<matplotlib.figure.Figure at 0x11ea34da0>"
      ]
     },
     "metadata": {},
     "output_type": "display_data"
    }
   ],
   "source": [
    "plt.plot(neuron.error_)\n",
    "plt.show()"
   ]
  },
  {
   "cell_type": "code",
   "execution_count": 82,
   "metadata": {},
   "outputs": [
    {
     "data": {
      "image/png": "[encoded data removed]",
      "text/plain": [
       "<matplotlib.figure.Figure at 0x11fcb7198>"
      ]
     },
     "metadata": {},
     "output_type": "display_data"
    }
   ],
   "source": [
    "x = np.arange(-1,2,0.5)\n",
    "a,b,c = neuron.w_[1],neuron.w_[2],neuron.w_[0]\n",
    "y = (-1*c-1*a*x)/b \n",
    "colors = ['blue','green','red']\n",
    "plt.plot(x,y,label='Decision-Boundary')\n",
    "for i,j in zip(X,d):\n",
    "    plt.scatter(i[0],i[1],c='green' if j==1 else 'red')\n",
    "plt.fill_between(x,y,5,color='green',alpha=0.2,label='Class 1')\n",
    "plt.fill_between(x,y,-3,color='red',alpha=0.2,label='Class -1')\n",
    "plt.legend()\n",
    "plt.show()"
   ]
  },
  {
   "cell_type": "code",
   "execution_count": 83,
   "metadata": {},
   "outputs": [
    {
     "data": {
      "text/plain": [
       "-0.96661313344593025"
      ]
     },
     "execution_count": 83,
     "metadata": {},
     "output_type": "execute_result"
    }
   ],
   "source": [
    "neuron.predict(np.array([0,0]))"
   ]
  },
  {
   "cell_type": "code",
   "execution_count": null,
   "metadata": {
    "collapsed": true
   },
   "outputs": [],
   "source": []
  },
  {
   "cell_type": "markdown",
   "metadata": {},
   "source": [
    "# With Momentum"
   ]
  },
  {
   "cell_type": "code",
   "execution_count": 94,
   "metadata": {
    "collapsed": true
   },
   "outputs": [],
   "source": [
    "class Neuron_With_Momentum:\n",
    "    def __init__(self,eta=0.01,alpha=0.8):\n",
    "        self.eta=eta\n",
    "        self.alpha=alpha\n",
    "        \n",
    "    def init_weights(self,X):\n",
    "        #self.w_ = np.random.uniform(-1,1,1+X.shape[1])\n",
    "        self.w_ = np.array([ 0.26549065,  0.90864179,  0.44052682])\n",
    "        return self.w_\n",
    "    \n",
    "    def train(self,X,outputs,e_max):\n",
    "        self.w_ = np.array([ 0.26549065,  0.90864179,  0.44052682])\n",
    "        print('Initial Weights : ',self.w_)\n",
    "        self.error_ = []\n",
    "        epoch=1\n",
    "        steps = 0\n",
    "        done = False\n",
    "        start_time = time.time()\n",
    "        delta_w_0 , delta_w = 0,0 # initial momemtum term\n",
    "        while not done:\n",
    "            err=0\n",
    "            for x,d in zip(X,outputs):\n",
    "                out = self.predict(x)\n",
    "                err += 0.5*(d-out)**2\n",
    "                self.w_[1:] = self.w_[1:] + self.eta*(d-out)*self.gradient(x)*x + self.alpha*delta_w #adding momentum\n",
    "                self.w_[0] = self.w_[0] + self.eta*(d-out)*self.gradient(x)*1 + self.alpha*delta_w_0 #adding momentum\n",
    "                delta_w_0 , delta_w = self.eta*(d-out)*self.gradient(x)*1,self.eta*(d-out)*self.gradient(x)*x\n",
    "                steps+=1\n",
    "            if err<e_max:\n",
    "                done = True\n",
    "                stop_time = time.time()\n",
    "                print(\"Training done\")\n",
    "            else:\n",
    "                epoch+=1\n",
    "                self.error_.append(err)\n",
    "        print(\"No of steps required for training are : \",steps)\n",
    "        print(\"Final Error : \",self.error_[-1])\n",
    "        print('Time required for raining is {} seconds : '.format(stop_time-start_time))\n",
    "        return self\n",
    "    \n",
    "    def get_weights(self):\n",
    "        return self.w_\n",
    "\n",
    "    def net_input(self,X):\n",
    "        return np.dot(X,self.w_[1:])+self.w_[0]\n",
    "\n",
    "    def activation(self,X):\n",
    "        net = self.net_input(X)\n",
    "        return (1-np.exp(-net))/(1+np.exp(-net))\n",
    "    \n",
    "    def gradient(self,X):\n",
    "        return 0.5*(1-self.predict(X)**2)\n",
    "\n",
    "    def predict(self,X):\n",
    "        return self.activation(X)"
   ]
  },
  {
   "cell_type": "code",
   "execution_count": 95,
   "metadata": {},
   "outputs": [],
   "source": [
    "neuron2 = Neuron_With_Momentum() "
   ]
  },
  {
   "cell_type": "code",
   "execution_count": 96,
   "metadata": {
    "collapsed": true
   },
   "outputs": [],
   "source": [
    "#OR dataset\n",
    "X = np.array([[0,0],[0,1],[1,0],[1,1]])\n",
    "d = np.array([-1,1,1,1])"
   ]
  },
  {
   "cell_type": "code",
   "execution_count": 97,
   "metadata": {},
   "outputs": [
    {
     "data": {
      "text/plain": [
       "array([ 0.26549065,  0.90864179,  0.44052682])"
      ]
     },
     "execution_count": 97,
     "metadata": {},
     "output_type": "execute_result"
    }
   ],
   "source": [
    "neuron2.init_weights(X)"
   ]
  },
  {
   "cell_type": "code",
   "execution_count": 98,
   "metadata": {},
   "outputs": [
    {
     "name": "stdout",
     "output_type": "stream",
     "text": [
      "Initial Weights :  [ 0.26549065  0.90864179  0.44052682]\n",
      "Training done\n",
      "No of steps required for training are :  529060\n",
      "Final Error :  0.00100000400986\n",
      "Time required for raining is 34.2339026927948 seconds : \n"
     ]
    },
    {
     "data": {
      "text/plain": [
       "<__main__.Neuron_With_Momentum at 0x11fcb77f0>"
      ]
     },
     "execution_count": 98,
     "metadata": {},
     "output_type": "execute_result"
    }
   ],
   "source": [
    "neuron2.train(X,d,0.001)"
   ]
  },
  {
   "cell_type": "code",
   "execution_count": 103,
   "metadata": {},
   "outputs": [
    {
     "data": {
      "image/png": "[encoded data removed]",
      "text/plain": [
       "<matplotlib.figure.Figure at 0x122200358>"
      ]
     },
     "metadata": {},
     "output_type": "display_data"
    }
   ],
   "source": [
    "plt.plot(neuron2.error_)\n",
    "plt.title('Error Plot')\n",
    "plt.xlabel('Epochs')\n",
    "plt.ylabel('Mean Square Error')\n",
    "plt.show()"
   ]
  },
  {
   "cell_type": "code",
   "execution_count": 100,
   "metadata": {},
   "outputs": [
    {
     "data": {
      "image/png": "[encoded data removed]",
      "text/plain": [
       "<matplotlib.figure.Figure at 0x1222138d0>"
      ]
     },
     "metadata": {},
     "output_type": "display_data"
    }
   ],
   "source": [
    "x = np.arange(-1,2,0.5)\n",
    "a,b,c = neuron2.w_[1],neuron2.w_[2],neuron2.w_[0]\n",
    "y = (-1*c-1*a*x)/b \n",
    "colors = ['blue','green','red']\n",
    "plt.plot(x,y,label='Decision-Boundary')\n",
    "for i,j in zip(X,d):\n",
    "    plt.scatter(i[0],i[1],c='green' if j==1 else 'red')\n",
    "plt.fill_between(x,y,5,color='green',alpha=0.2,label='Class 1')\n",
    "plt.fill_between(x,y,-3,color='red',alpha=0.2,label='Class -1')\n",
    "plt.legend()\n",
    "plt.show()"
   ]
  },
  {
   "cell_type": "code",
   "execution_count": 101,
   "metadata": {},
   "outputs": [
    {
     "data": {
      "text/plain": [
       "-0.96661315707474305"
      ]
     },
     "execution_count": 101,
     "metadata": {},
     "output_type": "execute_result"
    }
   ],
   "source": [
    "neuron2.predict(np.array([0,0]))"
   ]
  }
 ],
 "metadata": {
  "kernelspec": {
   "display_name": "Python 3",
   "language": "python",
   "name": "python3"
  },
  "language_info": {
   "codemirror_mode": {
    "name": "ipython",
    "version": 3
   },
   "file_extension": ".py",
   "mimetype": "text/x-python",
   "name": "python",
   "nbconvert_exporter": "python",
   "pygments_lexer": "ipython3",
   "version": "3.6.3"
  }
 },
 "nbformat": 4,
 "nbformat_minor": 2
}
